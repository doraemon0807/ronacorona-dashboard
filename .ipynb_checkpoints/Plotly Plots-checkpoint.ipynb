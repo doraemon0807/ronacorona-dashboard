{
 "cells": [
  {
   "cell_type": "code",
   "execution_count": 35,
   "id": "4f1f77cf",
   "metadata": {},
   "outputs": [
    {
     "name": "stdout",
     "output_type": "stream",
     "text": [
      "  Country_Region  Confirmed  Deaths  Recovered\n",
      "0             US   20397401  352844          0\n",
      "1          India   10305788  149218    9929568\n",
      "2         Brazil    7703971  195541    6855372\n",
      "3         Russia    3153960   56798    2553467\n",
      "4         France    2697014   64891     200822\n"
     ]
    },
    {
     "data": {
      "application/vnd.plotly.v1+json": {
       "config": {
        "plotlyServerURL": "https://plot.ly"
       },
       "data": [
        {
         "customdata": [
          [
           20397401,
           0,
           352844,
           "US"
          ],
          [
           10305788,
           9929568,
           149218,
           "India"
          ],
          [
           7703971,
           6855372,
           195541,
           "Brazil"
          ],
          [
           3153960,
           2553467,
           56798,
           "Russia"
          ],
          [
           2697014,
           200822,
           64891,
           "France"
          ],
          [
           2549671,
           5682,
           95917,
           "United Kingdom"
          ],
          [
           2220855,
           2114760,
           21093,
           "Turkey"
          ],
          [
           2129376,
           1479988,
           74621,
           "Italy"
          ],
          [
           1928265,
           150376,
           50837,
           "Spain"
          ],
          [
           1721839,
           1388744,
           33071,
           "Germany"
          ],
          [
           1654880,
           1520548,
           43495,
           "Colombia"
          ],
          [
           1629594,
           1426676,
           43319,
           "Argentina"
          ],
          [
           1437185,
           1083768,
           126507,
           "Mexico"
          ],
          [
           1305774,
           1046281,
           28956,
           "Poland"
          ],
          [
           1231429,
           995570,
           55337,
           "Iran"
          ],
          [
           1096855,
           746680,
           19437,
           "Ukraine"
          ],
          [
           1073887,
           887701,
           28887,
           "South Africa"
          ],
          [
           1015137,
           951318,
           93231,
           "Peru"
          ],
          [
           816616,
           9651,
           11624,
           "Netherlands"
          ],
          [
           751270,
           617936,
           22329,
           "Indonesia"
          ],
          [
           732022,
           600073,
           11711,
           "Czechia"
          ],
          [
           648289,
           0,
           19581,
           "Belgium"
          ],
          [
           636201,
           566365,
           15841,
           "Romania"
          ],
          [
           612564,
           579203,
           16660,
           "Chile"
          ],
          [
           596582,
           494437,
           15819,
           "Canada"
          ],
          [
           596193,
           539817,
           12824,
           "Iraq"
          ],
          [
           514500,
           458656,
           7576,
           "Bangladesh"
          ],
          [
           484362,
           438974,
           10258,
           "Pakistan"
          ],
          [
           475820,
           439895,
           9248,
           "Philippines"
          ],
          [
           452296,
           317600,
           7948,
           "Switzerland"
          ],
          [
           440970,
           409638,
           7425,
           "Morocco"
          ],
          [
           437379,
           0,
           8727,
           "Sweden"
          ],
          [
           428510,
           379910,
           3356,
           "Israel"
          ],
          [
           420629,
           338668,
           6972,
           "Portugal"
          ],
          [
           362878,
           354081,
           6230,
           "Saudi Arabia"
          ],
          [
           358774,
           334901,
           7564,
           "Austria"
          ],
          [
           339997,
           0,
           3250,
           "Serbia"
          ],
          [
           325278,
           157063,
           9667,
           "Hungary"
          ],
          [
           295765,
           271834,
           3851,
           "Jordan"
          ],
          [
           285079,
           127190,
           2250,
           "Slovakia"
          ],
          [
           261019,
           253107,
           1864,
           "Nepal"
          ],
          [
           249733,
           197928,
           4064,
           "Panama"
          ],
          [
           239005,
           193558,
           3541,
           "Japan"
          ],
          [
           228410,
           214992,
           2528,
           "Georgia"
          ],
          [
           219041,
           188280,
           2670,
           "Azerbaijan"
          ],
          [
           213378,
           184507,
           14051,
           "Ecuador"
          ],
          [
           212007,
           199820,
           3961,
           "Croatia"
          ],
          [
           209678,
           186019,
           671,
           "United Arab Emirates"
          ],
          [
           202540,
           120343,
           7604,
           "Bulgaria"
          ],
          [
           202060,
           176774,
           2749,
           "Kazakhstan"
          ],
          [
           196223,
           178102,
           1433,
           "Belarus"
          ],
          [
           183888,
           127959,
           1479,
           "Lebanon"
          ],
          [
           172218,
           131543,
           2416,
           "Dominican Republic"
          ],
          [
           169321,
           131923,
           2185,
           "Costa Rica"
          ],
          [
           166567,
           131390,
           1322,
           "Denmark"
          ],
          [
           160985,
           132510,
           9175,
           "Bolivia"
          ],
          [
           159738,
           143355,
           2828,
           "Armenia"
          ],
          [
           150869,
           146777,
           936,
           "Kuwait"
          ],
          [
           147862,
           98149,
           1841,
           "Lithuania"
          ],
          [
           145258,
           131701,
           3004,
           "Moldova"
          ],
          [
           144042,
           141556,
           245,
           "Qatar"
          ],
          [
           140557,
           105499,
           4730,
           "Tunisia"
          ],
          [
           139471,
           112826,
           7687,
           "Egypt"
          ],
          [
           139447,
           93764,
           4881,
           "Greece"
          ],
          [
           139223,
           118926,
           1418,
           "West Bank and Gaza"
          ],
          [
           138236,
           126606,
           4820,
           "Guatemala"
          ],
          [
           128867,
           121890,
           1499,
           "Oman"
          ],
          [
           125042,
           107777,
           2697,
           "Burma"
          ],
          [
           124652,
           112251,
           1937,
           "Ethiopia"
          ],
          [
           123950,
           100868,
           2728,
           "Slovenia"
          ],
          [
           122974,
           56936,
           3160,
           "Honduras"
          ],
          [
           115078,
           91170,
           474,
           "Malaysia"
          ],
          [
           113884,
           107901,
           1030,
           "Venezuela"
          ],
          [
           112143,
           77682,
           4086,
           "Bosnia and Herzegovina"
          ],
          [
           108349,
           81977,
           2262,
           "Paraguay"
          ],
          [
           102649,
           90031,
           4783,
           "China"
          ],
          [
           100744,
           73252,
           1487,
           "Libya"
          ],
          [
           99897,
           67395,
           2762,
           "Algeria"
          ],
          [
           96614,
           78802,
           1681,
           "Kenya"
          ],
          [
           93532,
           23364,
           2248,
           "Ireland"
          ],
          [
           92913,
           90369,
           352,
           "Bahrain"
          ],
          [
           88587,
           74373,
           1294,
           "Nigeria"
          ],
          [
           83743,
           61943,
           2510,
           "North Macedonia"
          ],
          [
           81156,
           76148,
           1356,
           "Kyrgyzstan"
          ],
          [
           77182,
           75244,
           614,
           "Uzbekistan"
          ],
          [
           62593,
           43578,
           942,
           "Korea, South"
          ],
          [
           58629,
           58449,
           29,
           "Singapore"
          ],
          [
           58316,
           33634,
           1181,
           "Albania"
          ],
          [
           54930,
           53758,
           335,
           "Ghana"
          ],
          [
           52513,
           41727,
           2201,
           "Afghanistan"
          ],
          [
           51502,
           41854,
           1336,
           "Kosovo"
          ],
          [
           49803,
           17998,
           436,
           "Norway"
          ],
          [
           48589,
           38780,
           684,
           "Montenegro"
          ],
          [
           46515,
           45960,
           1327,
           "El Salvador"
          ],
          [
           46415,
           40978,
           495,
           "Luxembourg"
          ],
          [
           43856,
           36155,
           208,
           "Sri Lanka"
          ],
          [
           41615,
           29018,
           644,
           "Latvia"
          ],
          [
           36676,
           29000,
           598,
           "Finland"
          ],
          [
           35511,
           11878,
           265,
           "Uganda"
          ],
          [
           28460,
           22573,
           909,
           "Australia"
          ],
          [
           28406,
           19027,
           234,
           "Estonia"
          ],
          [
           26848,
           24892,
           448,
           "Cameroon"
          ],
          [
           25730,
           13524,
           1468,
           "Sudan"
          ],
          [
           24545,
           20727,
           208,
           "Namibia"
          ],
          [
           23108,
           2057,
           126,
           "Cyprus"
          ],
          [
           22563,
           21981,
           138,
           "Cote d'Ivoire"
          ],
          [
           20997,
           18773,
           390,
           "Zambia"
          ],
          [
           19753,
           13990,
           193,
           "Uruguay"
          ],
          [
           19364,
           17375,
           410,
           "Senegal"
          ],
          [
           18794,
           16680,
           167,
           "Mozambique"
          ],
          [
           17849,
           14701,
           591,
           "Congo (Kinshasa)"
          ],
          [
           17714,
           17228,
           261,
           "Madagascar"
          ],
          [
           17568,
           11146,
           405,
           "Angola"
          ],
          [
           14805,
           12136,
           42,
           "Botswana"
          ],
          [
           14581,
           11652,
           349,
           "Mauritania"
          ],
          [
           14084,
           11347,
           369,
           "Zimbabwe"
          ],
          [
           13804,
           13150,
           48,
           "Maldives"
          ],
          [
           13738,
           13153,
           81,
           "Guinea"
          ],
          [
           13665,
           12894,
           90,
           "Tajikistan"
          ],
          [
           12915,
           10532,
           303,
           "Jamaica"
          ],
          [
           12909,
           11178,
           219,
           "Malta"
          ],
          [
           12056,
           10345,
           146,
           "Cuba"
          ],
          [
           11872,
           11569,
           113,
           "Cabo Verde"
          ],
          [
           11526,
           5420,
           717,
           "Syria"
          ],
          [
           10776,
           9795,
           248,
           "Belize"
          ],
          [
           10015,
           8624,
           236,
           "Haiti"
          ],
          [
           9571,
           9388,
           64,
           "Gabon"
          ],
          [
           9482,
           7073,
           216,
           "Eswatini"
          ],
          [
           8460,
           6598,
           94,
           "Rwanda"
          ],
          [
           8117,
           7463,
           84,
           "Andorra"
          ],
          [
           7887,
           6239,
           171,
           "Bahamas"
          ],
          [
           7203,
           4694,
           271,
           "Mali"
          ],
          [
           7163,
           4299,
           63,
           "Thailand"
          ],
          [
           7158,
           6671,
           127,
           "Trinidad and Tobago"
          ],
          [
           7107,
           5846,
           108,
           "Congo (Brazzaville)"
          ],
          [
           6828,
           5152,
           85,
           "Burkina Faso"
          ],
          [
           6684,
           5708,
           191,
           "Malawi"
          ],
          [
           6348,
           5868,
           164,
           "Guyana"
          ],
          [
           6277,
           5771,
           123,
           "Suriname"
          ],
          [
           5840,
           5735,
           61,
           "Djibouti"
          ],
          [
           5754,
           5578,
           29,
           "Iceland"
          ],
          [
           5277,
           5136,
           86,
           "Equatorial Guinea"
          ],
          [
           4963,
           1924,
           63,
           "Central African Republic"
          ],
          [
           4829,
           4225,
           165,
           "Nicaragua"
          ],
          [
           4714,
           3612,
           130,
           "Somalia"
          ],
          [
           3800,
           3669,
           124,
           "Gambia"
          ],
          [
           3662,
           3443,
           68,
           "Togo"
          ],
          [
           3558,
           3131,
           63,
           "South Sudan"
          ],
          [
           3403,
           1828,
           106,
           "Niger"
          ],
          [
           3251,
           3061,
           44,
           "Benin"
          ],
          [
           3206,
           1496,
           51,
           "Lesotho"
          ],
          [
           2635,
           1906,
           76,
           "Sierra Leone"
          ],
          [
           2452,
           2397,
           45,
           "Guinea-Bissau"
          ],
          [
           2384,
           2042,
           59,
           "San Marino"
          ],
          [
           2245,
           1810,
           44,
           "Liechtenstein"
          ],
          [
           2162,
           2082,
           26,
           "New Zealand"
          ],
          [
           2141,
           1704,
           104,
           "Chad"
          ],
          [
           2101,
           1396,
           610,
           "Yemen"
          ],
          [
           1800,
           1406,
           83,
           "Liberia"
          ],
          [
           1474,
           1325,
           35,
           "Vietnam"
          ],
          [
           1320,
           643,
           3,
           "Eritrea"
          ],
          [
           1220,
           855,
           1,
           "Mongolia"
          ],
          [
           1022,
           973,
           17,
           "Sao Tome and Principe"
          ],
          [
           885,
           718,
           3,
           "Monaco"
          ],
          [
           823,
           705,
           10,
           "Comoros"
          ],
          [
           822,
           687,
           2,
           "Burundi"
          ],
          [
           802,
           682,
           7,
           "Taiwan*"
          ],
          [
           780,
           661,
           9,
           "Papua New Guinea"
          ],
          [
           712,
           699,
           13,
           "Diamond Princess"
          ],
          [
           689,
           449,
           0,
           "Bhutan"
          ],
          [
           527,
           496,
           10,
           "Mauritius"
          ],
          [
           509,
           183,
           21,
           "Tanzania"
          ],
          [
           395,
           319,
           7,
           "Barbados"
          ],
          [
           379,
           362,
           0,
           "Cambodia"
          ],
          [
           353,
           289,
           5,
           "Saint Lucia"
          ],
          [
           267,
           214,
           0,
           "Seychelles"
          ],
          [
           159,
           148,
           5,
           "Antigua and Barbuda"
          ],
          [
           157,
           149,
           3,
           "Brunei"
          ],
          [
           127,
           107,
           0,
           "Grenada"
          ],
          [
           121,
           98,
           0,
           "Saint Vincent and the Grenadines"
          ],
          [
           88,
           83,
           0,
           "Dominica"
          ],
          [
           49,
           44,
           2,
           "Fiji"
          ],
          [
           44,
           32,
           0,
           "Timor-Leste"
          ],
          [
           41,
           40,
           0,
           "Laos"
          ],
          [
           32,
           29,
           0,
           "Saint Kitts and Nevis"
          ],
          [
           27,
           15,
           0,
           "Holy See"
          ],
          [
           17,
           5,
           0,
           "Solomon Islands"
          ],
          [
           9,
           7,
           2,
           "MS Zaandam"
          ],
          [
           4,
           4,
           0,
           "Marshall Islands"
          ],
          [
           2,
           2,
           0,
           "Samoa"
          ],
          [
           1,
           1,
           0,
           "Vanuatu"
          ],
          [
           0,
           0,
           0,
           "Palau"
          ],
          [
           0,
           0,
           0,
           "Tuvalu"
          ],
          [
           0,
           0,
           0,
           "Tonga"
          ],
          [
           0,
           0,
           0,
           "Antarctica"
          ],
          [
           0,
           0,
           0,
           "Korea, North"
          ],
          [
           0,
           0,
           0,
           "Nauru"
          ],
          [
           0,
           0,
           0,
           "Winter Olympics 2022"
          ],
          [
           0,
           0,
           0,
           "Summer Olympics 2020"
          ],
          [
           0,
           0,
           0,
           "Kiribati"
          ]
         ],
         "geo": "geo",
         "hovertemplate": "<b>%{hovertext}</b><br><br>Confirmed=%{marker.color:,}<br>Recovered=%{customdata[1]:,}<br>Deaths=%{customdata[2]:,}<extra></extra>",
         "hovertext": [
          "US",
          "India",
          "Brazil",
          "Russia",
          "France",
          "United Kingdom",
          "Turkey",
          "Italy",
          "Spain",
          "Germany",
          "Colombia",
          "Argentina",
          "Mexico",
          "Poland",
          "Iran",
          "Ukraine",
          "South Africa",
          "Peru",
          "Netherlands",
          "Indonesia",
          "Czechia",
          "Belgium",
          "Romania",
          "Chile",
          "Canada",
          "Iraq",
          "Bangladesh",
          "Pakistan",
          "Philippines",
          "Switzerland",
          "Morocco",
          "Sweden",
          "Israel",
          "Portugal",
          "Saudi Arabia",
          "Austria",
          "Serbia",
          "Hungary",
          "Jordan",
          "Slovakia",
          "Nepal",
          "Panama",
          "Japan",
          "Georgia",
          "Azerbaijan",
          "Ecuador",
          "Croatia",
          "United Arab Emirates",
          "Bulgaria",
          "Kazakhstan",
          "Belarus",
          "Lebanon",
          "Dominican Republic",
          "Costa Rica",
          "Denmark",
          "Bolivia",
          "Armenia",
          "Kuwait",
          "Lithuania",
          "Moldova",
          "Qatar",
          "Tunisia",
          "Egypt",
          "Greece",
          "West Bank and Gaza",
          "Guatemala",
          "Oman",
          "Burma",
          "Ethiopia",
          "Slovenia",
          "Honduras",
          "Malaysia",
          "Venezuela",
          "Bosnia and Herzegovina",
          "Paraguay",
          "China",
          "Libya",
          "Algeria",
          "Kenya",
          "Ireland",
          "Bahrain",
          "Nigeria",
          "North Macedonia",
          "Kyrgyzstan",
          "Uzbekistan",
          "Korea, South",
          "Singapore",
          "Albania",
          "Ghana",
          "Afghanistan",
          "Kosovo",
          "Norway",
          "Montenegro",
          "El Salvador",
          "Luxembourg",
          "Sri Lanka",
          "Latvia",
          "Finland",
          "Uganda",
          "Australia",
          "Estonia",
          "Cameroon",
          "Sudan",
          "Namibia",
          "Cyprus",
          "Cote d'Ivoire",
          "Zambia",
          "Uruguay",
          "Senegal",
          "Mozambique",
          "Congo (Kinshasa)",
          "Madagascar",
          "Angola",
          "Botswana",
          "Mauritania",
          "Zimbabwe",
          "Maldives",
          "Guinea",
          "Tajikistan",
          "Jamaica",
          "Malta",
          "Cuba",
          "Cabo Verde",
          "Syria",
          "Belize",
          "Haiti",
          "Gabon",
          "Eswatini",
          "Rwanda",
          "Andorra",
          "Bahamas",
          "Mali",
          "Thailand",
          "Trinidad and Tobago",
          "Congo (Brazzaville)",
          "Burkina Faso",
          "Malawi",
          "Guyana",
          "Suriname",
          "Djibouti",
          "Iceland",
          "Equatorial Guinea",
          "Central African Republic",
          "Nicaragua",
          "Somalia",
          "Gambia",
          "Togo",
          "South Sudan",
          "Niger",
          "Benin",
          "Lesotho",
          "Sierra Leone",
          "Guinea-Bissau",
          "San Marino",
          "Liechtenstein",
          "New Zealand",
          "Chad",
          "Yemen",
          "Liberia",
          "Vietnam",
          "Eritrea",
          "Mongolia",
          "Sao Tome and Principe",
          "Monaco",
          "Comoros",
          "Burundi",
          "Taiwan*",
          "Papua New Guinea",
          "Diamond Princess",
          "Bhutan",
          "Mauritius",
          "Tanzania",
          "Barbados",
          "Cambodia",
          "Saint Lucia",
          "Seychelles",
          "Antigua and Barbuda",
          "Brunei",
          "Grenada",
          "Saint Vincent and the Grenadines",
          "Dominica",
          "Fiji",
          "Timor-Leste",
          "Laos",
          "Saint Kitts and Nevis",
          "Holy See",
          "Solomon Islands",
          "MS Zaandam",
          "Marshall Islands",
          "Samoa",
          "Vanuatu",
          "Palau",
          "Tuvalu",
          "Tonga",
          "Antarctica",
          "Korea, North",
          "Nauru",
          "Winter Olympics 2022",
          "Summer Olympics 2020",
          "Kiribati"
         ],
         "legendgroup": "",
         "locationmode": "country names",
         "locations": [
          "US",
          "India",
          "Brazil",
          "Russia",
          "France",
          "United Kingdom",
          "Turkey",
          "Italy",
          "Spain",
          "Germany",
          "Colombia",
          "Argentina",
          "Mexico",
          "Poland",
          "Iran",
          "Ukraine",
          "South Africa",
          "Peru",
          "Netherlands",
          "Indonesia",
          "Czechia",
          "Belgium",
          "Romania",
          "Chile",
          "Canada",
          "Iraq",
          "Bangladesh",
          "Pakistan",
          "Philippines",
          "Switzerland",
          "Morocco",
          "Sweden",
          "Israel",
          "Portugal",
          "Saudi Arabia",
          "Austria",
          "Serbia",
          "Hungary",
          "Jordan",
          "Slovakia",
          "Nepal",
          "Panama",
          "Japan",
          "Georgia",
          "Azerbaijan",
          "Ecuador",
          "Croatia",
          "United Arab Emirates",
          "Bulgaria",
          "Kazakhstan",
          "Belarus",
          "Lebanon",
          "Dominican Republic",
          "Costa Rica",
          "Denmark",
          "Bolivia",
          "Armenia",
          "Kuwait",
          "Lithuania",
          "Moldova",
          "Qatar",
          "Tunisia",
          "Egypt",
          "Greece",
          "West Bank and Gaza",
          "Guatemala",
          "Oman",
          "Burma",
          "Ethiopia",
          "Slovenia",
          "Honduras",
          "Malaysia",
          "Venezuela",
          "Bosnia and Herzegovina",
          "Paraguay",
          "China",
          "Libya",
          "Algeria",
          "Kenya",
          "Ireland",
          "Bahrain",
          "Nigeria",
          "North Macedonia",
          "Kyrgyzstan",
          "Uzbekistan",
          "Korea, South",
          "Singapore",
          "Albania",
          "Ghana",
          "Afghanistan",
          "Kosovo",
          "Norway",
          "Montenegro",
          "El Salvador",
          "Luxembourg",
          "Sri Lanka",
          "Latvia",
          "Finland",
          "Uganda",
          "Australia",
          "Estonia",
          "Cameroon",
          "Sudan",
          "Namibia",
          "Cyprus",
          "Cote d'Ivoire",
          "Zambia",
          "Uruguay",
          "Senegal",
          "Mozambique",
          "Congo (Kinshasa)",
          "Madagascar",
          "Angola",
          "Botswana",
          "Mauritania",
          "Zimbabwe",
          "Maldives",
          "Guinea",
          "Tajikistan",
          "Jamaica",
          "Malta",
          "Cuba",
          "Cabo Verde",
          "Syria",
          "Belize",
          "Haiti",
          "Gabon",
          "Eswatini",
          "Rwanda",
          "Andorra",
          "Bahamas",
          "Mali",
          "Thailand",
          "Trinidad and Tobago",
          "Congo (Brazzaville)",
          "Burkina Faso",
          "Malawi",
          "Guyana",
          "Suriname",
          "Djibouti",
          "Iceland",
          "Equatorial Guinea",
          "Central African Republic",
          "Nicaragua",
          "Somalia",
          "Gambia",
          "Togo",
          "South Sudan",
          "Niger",
          "Benin",
          "Lesotho",
          "Sierra Leone",
          "Guinea-Bissau",
          "San Marino",
          "Liechtenstein",
          "New Zealand",
          "Chad",
          "Yemen",
          "Liberia",
          "Vietnam",
          "Eritrea",
          "Mongolia",
          "Sao Tome and Principe",
          "Monaco",
          "Comoros",
          "Burundi",
          "Taiwan*",
          "Papua New Guinea",
          "Diamond Princess",
          "Bhutan",
          "Mauritius",
          "Tanzania",
          "Barbados",
          "Cambodia",
          "Saint Lucia",
          "Seychelles",
          "Antigua and Barbuda",
          "Brunei",
          "Grenada",
          "Saint Vincent and the Grenadines",
          "Dominica",
          "Fiji",
          "Timor-Leste",
          "Laos",
          "Saint Kitts and Nevis",
          "Holy See",
          "Solomon Islands",
          "MS Zaandam",
          "Marshall Islands",
          "Samoa",
          "Vanuatu",
          "Palau",
          "Tuvalu",
          "Tonga",
          "Antarctica",
          "Korea, North",
          "Nauru",
          "Winter Olympics 2022",
          "Summer Olympics 2020",
          "Kiribati"
         ],
         "marker": {
          "color": [
           20397401,
           10305788,
           7703971,
           3153960,
           2697014,
           2549671,
           2220855,
           2129376,
           1928265,
           1721839,
           1654880,
           1629594,
           1437185,
           1305774,
           1231429,
           1096855,
           1073887,
           1015137,
           816616,
           751270,
           732022,
           648289,
           636201,
           612564,
           596582,
           596193,
           514500,
           484362,
           475820,
           452296,
           440970,
           437379,
           428510,
           420629,
           362878,
           358774,
           339997,
           325278,
           295765,
           285079,
           261019,
           249733,
           239005,
           228410,
           219041,
           213378,
           212007,
           209678,
           202540,
           202060,
           196223,
           183888,
           172218,
           169321,
           166567,
           160985,
           159738,
           150869,
           147862,
           145258,
           144042,
           140557,
           139471,
           139447,
           139223,
           138236,
           128867,
           125042,
           124652,
           123950,
           122974,
           115078,
           113884,
           112143,
           108349,
           102649,
           100744,
           99897,
           96614,
           93532,
           92913,
           88587,
           83743,
           81156,
           77182,
           62593,
           58629,
           58316,
           54930,
           52513,
           51502,
           49803,
           48589,
           46515,
           46415,
           43856,
           41615,
           36676,
           35511,
           28460,
           28406,
           26848,
           25730,
           24545,
           23108,
           22563,
           20997,
           19753,
           19364,
           18794,
           17849,
           17714,
           17568,
           14805,
           14581,
           14084,
           13804,
           13738,
           13665,
           12915,
           12909,
           12056,
           11872,
           11526,
           10776,
           10015,
           9571,
           9482,
           8460,
           8117,
           7887,
           7203,
           7163,
           7158,
           7107,
           6828,
           6684,
           6348,
           6277,
           5840,
           5754,
           5277,
           4963,
           4829,
           4714,
           3800,
           3662,
           3558,
           3403,
           3251,
           3206,
           2635,
           2452,
           2384,
           2245,
           2162,
           2141,
           2101,
           1800,
           1474,
           1320,
           1220,
           1022,
           885,
           823,
           822,
           802,
           780,
           712,
           689,
           527,
           509,
           395,
           379,
           353,
           267,
           159,
           157,
           127,
           121,
           88,
           49,
           44,
           41,
           32,
           27,
           17,
           9,
           4,
           2,
           1,
           0,
           0,
           0,
           0,
           0,
           0,
           0,
           0,
           0
          ],
          "coloraxis": "coloraxis",
          "size": [
           20397401,
           10305788,
           7703971,
           3153960,
           2697014,
           2549671,
           2220855,
           2129376,
           1928265,
           1721839,
           1654880,
           1629594,
           1437185,
           1305774,
           1231429,
           1096855,
           1073887,
           1015137,
           816616,
           751270,
           732022,
           648289,
           636201,
           612564,
           596582,
           596193,
           514500,
           484362,
           475820,
           452296,
           440970,
           437379,
           428510,
           420629,
           362878,
           358774,
           339997,
           325278,
           295765,
           285079,
           261019,
           249733,
           239005,
           228410,
           219041,
           213378,
           212007,
           209678,
           202540,
           202060,
           196223,
           183888,
           172218,
           169321,
           166567,
           160985,
           159738,
           150869,
           147862,
           145258,
           144042,
           140557,
           139471,
           139447,
           139223,
           138236,
           128867,
           125042,
           124652,
           123950,
           122974,
           115078,
           113884,
           112143,
           108349,
           102649,
           100744,
           99897,
           96614,
           93532,
           92913,
           88587,
           83743,
           81156,
           77182,
           62593,
           58629,
           58316,
           54930,
           52513,
           51502,
           49803,
           48589,
           46515,
           46415,
           43856,
           41615,
           36676,
           35511,
           28460,
           28406,
           26848,
           25730,
           24545,
           23108,
           22563,
           20997,
           19753,
           19364,
           18794,
           17849,
           17714,
           17568,
           14805,
           14581,
           14084,
           13804,
           13738,
           13665,
           12915,
           12909,
           12056,
           11872,
           11526,
           10776,
           10015,
           9571,
           9482,
           8460,
           8117,
           7887,
           7203,
           7163,
           7158,
           7107,
           6828,
           6684,
           6348,
           6277,
           5840,
           5754,
           5277,
           4963,
           4829,
           4714,
           3800,
           3662,
           3558,
           3403,
           3251,
           3206,
           2635,
           2452,
           2384,
           2245,
           2162,
           2141,
           2101,
           1800,
           1474,
           1320,
           1220,
           1022,
           885,
           823,
           822,
           802,
           780,
           712,
           689,
           527,
           509,
           395,
           379,
           353,
           267,
           159,
           157,
           127,
           121,
           88,
           49,
           44,
           41,
           32,
           27,
           17,
           9,
           4,
           2,
           1,
           0,
           0,
           0,
           0,
           0,
           0,
           0,
           0,
           0
          ],
          "sizemode": "area",
          "sizeref": 12748.375625,
          "symbol": "circle"
         },
         "mode": "markers",
         "name": "",
         "showlegend": false,
         "type": "scattergeo"
        }
       ],
       "layout": {
        "coloraxis": {
         "colorbar": {
          "title": {
           "text": "Confirmed"
          }
         },
         "colorscale": [
          [
           0,
           "#0d0887"
          ],
          [
           0.1111111111111111,
           "#46039f"
          ],
          [
           0.2222222222222222,
           "#7201a8"
          ],
          [
           0.3333333333333333,
           "#9c179e"
          ],
          [
           0.4444444444444444,
           "#bd3786"
          ],
          [
           0.5555555555555556,
           "#d8576b"
          ],
          [
           0.6666666666666666,
           "#ed7953"
          ],
          [
           0.7777777777777778,
           "#fb9f3a"
          ],
          [
           0.8888888888888888,
           "#fdca26"
          ],
          [
           1,
           "#f0f921"
          ]
         ]
        },
        "geo": {
         "center": {},
         "domain": {
          "x": [
           0,
           1
          ],
          "y": [
           0,
           1
          ]
         }
        },
        "legend": {
         "itemsizing": "constant",
         "tracegroupgap": 0
        },
        "margin": {
         "t": 60
        },
        "template": {
         "data": {
          "bar": [
           {
            "error_x": {
             "color": "#f2f5fa"
            },
            "error_y": {
             "color": "#f2f5fa"
            },
            "marker": {
             "line": {
              "color": "rgb(17,17,17)",
              "width": 0.5
             },
             "pattern": {
              "fillmode": "overlay",
              "size": 10,
              "solidity": 0.2
             }
            },
            "type": "bar"
           }
          ],
          "barpolar": [
           {
            "marker": {
             "line": {
              "color": "rgb(17,17,17)",
              "width": 0.5
             },
             "pattern": {
              "fillmode": "overlay",
              "size": 10,
              "solidity": 0.2
             }
            },
            "type": "barpolar"
           }
          ],
          "carpet": [
           {
            "aaxis": {
             "endlinecolor": "#A2B1C6",
             "gridcolor": "#506784",
             "linecolor": "#506784",
             "minorgridcolor": "#506784",
             "startlinecolor": "#A2B1C6"
            },
            "baxis": {
             "endlinecolor": "#A2B1C6",
             "gridcolor": "#506784",
             "linecolor": "#506784",
             "minorgridcolor": "#506784",
             "startlinecolor": "#A2B1C6"
            },
            "type": "carpet"
           }
          ],
          "choropleth": [
           {
            "colorbar": {
             "outlinewidth": 0,
             "ticks": ""
            },
            "type": "choropleth"
           }
          ],
          "contour": [
           {
            "colorbar": {
             "outlinewidth": 0,
             "ticks": ""
            },
            "colorscale": [
             [
              0,
              "#0d0887"
             ],
             [
              0.1111111111111111,
              "#46039f"
             ],
             [
              0.2222222222222222,
              "#7201a8"
             ],
             [
              0.3333333333333333,
              "#9c179e"
             ],
             [
              0.4444444444444444,
              "#bd3786"
             ],
             [
              0.5555555555555556,
              "#d8576b"
             ],
             [
              0.6666666666666666,
              "#ed7953"
             ],
             [
              0.7777777777777778,
              "#fb9f3a"
             ],
             [
              0.8888888888888888,
              "#fdca26"
             ],
             [
              1,
              "#f0f921"
             ]
            ],
            "type": "contour"
           }
          ],
          "contourcarpet": [
           {
            "colorbar": {
             "outlinewidth": 0,
             "ticks": ""
            },
            "type": "contourcarpet"
           }
          ],
          "heatmap": [
           {
            "colorbar": {
             "outlinewidth": 0,
             "ticks": ""
            },
            "colorscale": [
             [
              0,
              "#0d0887"
             ],
             [
              0.1111111111111111,
              "#46039f"
             ],
             [
              0.2222222222222222,
              "#7201a8"
             ],
             [
              0.3333333333333333,
              "#9c179e"
             ],
             [
              0.4444444444444444,
              "#bd3786"
             ],
             [
              0.5555555555555556,
              "#d8576b"
             ],
             [
              0.6666666666666666,
              "#ed7953"
             ],
             [
              0.7777777777777778,
              "#fb9f3a"
             ],
             [
              0.8888888888888888,
              "#fdca26"
             ],
             [
              1,
              "#f0f921"
             ]
            ],
            "type": "heatmap"
           }
          ],
          "heatmapgl": [
           {
            "colorbar": {
             "outlinewidth": 0,
             "ticks": ""
            },
            "colorscale": [
             [
              0,
              "#0d0887"
             ],
             [
              0.1111111111111111,
              "#46039f"
             ],
             [
              0.2222222222222222,
              "#7201a8"
             ],
             [
              0.3333333333333333,
              "#9c179e"
             ],
             [
              0.4444444444444444,
              "#bd3786"
             ],
             [
              0.5555555555555556,
              "#d8576b"
             ],
             [
              0.6666666666666666,
              "#ed7953"
             ],
             [
              0.7777777777777778,
              "#fb9f3a"
             ],
             [
              0.8888888888888888,
              "#fdca26"
             ],
             [
              1,
              "#f0f921"
             ]
            ],
            "type": "heatmapgl"
           }
          ],
          "histogram": [
           {
            "marker": {
             "pattern": {
              "fillmode": "overlay",
              "size": 10,
              "solidity": 0.2
             }
            },
            "type": "histogram"
           }
          ],
          "histogram2d": [
           {
            "colorbar": {
             "outlinewidth": 0,
             "ticks": ""
            },
            "colorscale": [
             [
              0,
              "#0d0887"
             ],
             [
              0.1111111111111111,
              "#46039f"
             ],
             [
              0.2222222222222222,
              "#7201a8"
             ],
             [
              0.3333333333333333,
              "#9c179e"
             ],
             [
              0.4444444444444444,
              "#bd3786"
             ],
             [
              0.5555555555555556,
              "#d8576b"
             ],
             [
              0.6666666666666666,
              "#ed7953"
             ],
             [
              0.7777777777777778,
              "#fb9f3a"
             ],
             [
              0.8888888888888888,
              "#fdca26"
             ],
             [
              1,
              "#f0f921"
             ]
            ],
            "type": "histogram2d"
           }
          ],
          "histogram2dcontour": [
           {
            "colorbar": {
             "outlinewidth": 0,
             "ticks": ""
            },
            "colorscale": [
             [
              0,
              "#0d0887"
             ],
             [
              0.1111111111111111,
              "#46039f"
             ],
             [
              0.2222222222222222,
              "#7201a8"
             ],
             [
              0.3333333333333333,
              "#9c179e"
             ],
             [
              0.4444444444444444,
              "#bd3786"
             ],
             [
              0.5555555555555556,
              "#d8576b"
             ],
             [
              0.6666666666666666,
              "#ed7953"
             ],
             [
              0.7777777777777778,
              "#fb9f3a"
             ],
             [
              0.8888888888888888,
              "#fdca26"
             ],
             [
              1,
              "#f0f921"
             ]
            ],
            "type": "histogram2dcontour"
           }
          ],
          "mesh3d": [
           {
            "colorbar": {
             "outlinewidth": 0,
             "ticks": ""
            },
            "type": "mesh3d"
           }
          ],
          "parcoords": [
           {
            "line": {
             "colorbar": {
              "outlinewidth": 0,
              "ticks": ""
             }
            },
            "type": "parcoords"
           }
          ],
          "pie": [
           {
            "automargin": true,
            "type": "pie"
           }
          ],
          "scatter": [
           {
            "marker": {
             "line": {
              "color": "#283442"
             }
            },
            "type": "scatter"
           }
          ],
          "scatter3d": [
           {
            "line": {
             "colorbar": {
              "outlinewidth": 0,
              "ticks": ""
             }
            },
            "marker": {
             "colorbar": {
              "outlinewidth": 0,
              "ticks": ""
             }
            },
            "type": "scatter3d"
           }
          ],
          "scattercarpet": [
           {
            "marker": {
             "colorbar": {
              "outlinewidth": 0,
              "ticks": ""
             }
            },
            "type": "scattercarpet"
           }
          ],
          "scattergeo": [
           {
            "marker": {
             "colorbar": {
              "outlinewidth": 0,
              "ticks": ""
             }
            },
            "type": "scattergeo"
           }
          ],
          "scattergl": [
           {
            "marker": {
             "line": {
              "color": "#283442"
             }
            },
            "type": "scattergl"
           }
          ],
          "scattermapbox": [
           {
            "marker": {
             "colorbar": {
              "outlinewidth": 0,
              "ticks": ""
             }
            },
            "type": "scattermapbox"
           }
          ],
          "scatterpolar": [
           {
            "marker": {
             "colorbar": {
              "outlinewidth": 0,
              "ticks": ""
             }
            },
            "type": "scatterpolar"
           }
          ],
          "scatterpolargl": [
           {
            "marker": {
             "colorbar": {
              "outlinewidth": 0,
              "ticks": ""
             }
            },
            "type": "scatterpolargl"
           }
          ],
          "scatterternary": [
           {
            "marker": {
             "colorbar": {
              "outlinewidth": 0,
              "ticks": ""
             }
            },
            "type": "scatterternary"
           }
          ],
          "surface": [
           {
            "colorbar": {
             "outlinewidth": 0,
             "ticks": ""
            },
            "colorscale": [
             [
              0,
              "#0d0887"
             ],
             [
              0.1111111111111111,
              "#46039f"
             ],
             [
              0.2222222222222222,
              "#7201a8"
             ],
             [
              0.3333333333333333,
              "#9c179e"
             ],
             [
              0.4444444444444444,
              "#bd3786"
             ],
             [
              0.5555555555555556,
              "#d8576b"
             ],
             [
              0.6666666666666666,
              "#ed7953"
             ],
             [
              0.7777777777777778,
              "#fb9f3a"
             ],
             [
              0.8888888888888888,
              "#fdca26"
             ],
             [
              1,
              "#f0f921"
             ]
            ],
            "type": "surface"
           }
          ],
          "table": [
           {
            "cells": {
             "fill": {
              "color": "#506784"
             },
             "line": {
              "color": "rgb(17,17,17)"
             }
            },
            "header": {
             "fill": {
              "color": "#2a3f5f"
             },
             "line": {
              "color": "rgb(17,17,17)"
             }
            },
            "type": "table"
           }
          ]
         },
         "layout": {
          "annotationdefaults": {
           "arrowcolor": "#f2f5fa",
           "arrowhead": 0,
           "arrowwidth": 1
          },
          "autotypenumbers": "strict",
          "coloraxis": {
           "colorbar": {
            "outlinewidth": 0,
            "ticks": ""
           }
          },
          "colorscale": {
           "diverging": [
            [
             0,
             "#8e0152"
            ],
            [
             0.1,
             "#c51b7d"
            ],
            [
             0.2,
             "#de77ae"
            ],
            [
             0.3,
             "#f1b6da"
            ],
            [
             0.4,
             "#fde0ef"
            ],
            [
             0.5,
             "#f7f7f7"
            ],
            [
             0.6,
             "#e6f5d0"
            ],
            [
             0.7,
             "#b8e186"
            ],
            [
             0.8,
             "#7fbc41"
            ],
            [
             0.9,
             "#4d9221"
            ],
            [
             1,
             "#276419"
            ]
           ],
           "sequential": [
            [
             0,
             "#0d0887"
            ],
            [
             0.1111111111111111,
             "#46039f"
            ],
            [
             0.2222222222222222,
             "#7201a8"
            ],
            [
             0.3333333333333333,
             "#9c179e"
            ],
            [
             0.4444444444444444,
             "#bd3786"
            ],
            [
             0.5555555555555556,
             "#d8576b"
            ],
            [
             0.6666666666666666,
             "#ed7953"
            ],
            [
             0.7777777777777778,
             "#fb9f3a"
            ],
            [
             0.8888888888888888,
             "#fdca26"
            ],
            [
             1,
             "#f0f921"
            ]
           ],
           "sequentialminus": [
            [
             0,
             "#0d0887"
            ],
            [
             0.1111111111111111,
             "#46039f"
            ],
            [
             0.2222222222222222,
             "#7201a8"
            ],
            [
             0.3333333333333333,
             "#9c179e"
            ],
            [
             0.4444444444444444,
             "#bd3786"
            ],
            [
             0.5555555555555556,
             "#d8576b"
            ],
            [
             0.6666666666666666,
             "#ed7953"
            ],
            [
             0.7777777777777778,
             "#fb9f3a"
            ],
            [
             0.8888888888888888,
             "#fdca26"
            ],
            [
             1,
             "#f0f921"
            ]
           ]
          },
          "colorway": [
           "#636efa",
           "#EF553B",
           "#00cc96",
           "#ab63fa",
           "#FFA15A",
           "#19d3f3",
           "#FF6692",
           "#B6E880",
           "#FF97FF",
           "#FECB52"
          ],
          "font": {
           "color": "#f2f5fa"
          },
          "geo": {
           "bgcolor": "rgb(17,17,17)",
           "lakecolor": "rgb(17,17,17)",
           "landcolor": "rgb(17,17,17)",
           "showlakes": true,
           "showland": true,
           "subunitcolor": "#506784"
          },
          "hoverlabel": {
           "align": "left"
          },
          "hovermode": "closest",
          "mapbox": {
           "style": "dark"
          },
          "paper_bgcolor": "rgb(17,17,17)",
          "plot_bgcolor": "rgb(17,17,17)",
          "polar": {
           "angularaxis": {
            "gridcolor": "#506784",
            "linecolor": "#506784",
            "ticks": ""
           },
           "bgcolor": "rgb(17,17,17)",
           "radialaxis": {
            "gridcolor": "#506784",
            "linecolor": "#506784",
            "ticks": ""
           }
          },
          "scene": {
           "xaxis": {
            "backgroundcolor": "rgb(17,17,17)",
            "gridcolor": "#506784",
            "gridwidth": 2,
            "linecolor": "#506784",
            "showbackground": true,
            "ticks": "",
            "zerolinecolor": "#C8D4E3"
           },
           "yaxis": {
            "backgroundcolor": "rgb(17,17,17)",
            "gridcolor": "#506784",
            "gridwidth": 2,
            "linecolor": "#506784",
            "showbackground": true,
            "ticks": "",
            "zerolinecolor": "#C8D4E3"
           },
           "zaxis": {
            "backgroundcolor": "rgb(17,17,17)",
            "gridcolor": "#506784",
            "gridwidth": 2,
            "linecolor": "#506784",
            "showbackground": true,
            "ticks": "",
            "zerolinecolor": "#C8D4E3"
           }
          },
          "shapedefaults": {
           "line": {
            "color": "#f2f5fa"
           }
          },
          "sliderdefaults": {
           "bgcolor": "#C8D4E3",
           "bordercolor": "rgb(17,17,17)",
           "borderwidth": 1,
           "tickwidth": 0
          },
          "ternary": {
           "aaxis": {
            "gridcolor": "#506784",
            "linecolor": "#506784",
            "ticks": ""
           },
           "baxis": {
            "gridcolor": "#506784",
            "linecolor": "#506784",
            "ticks": ""
           },
           "bgcolor": "rgb(17,17,17)",
           "caxis": {
            "gridcolor": "#506784",
            "linecolor": "#506784",
            "ticks": ""
           }
          },
          "title": {
           "x": 0.05
          },
          "updatemenudefaults": {
           "bgcolor": "#506784",
           "borderwidth": 0
          },
          "xaxis": {
           "automargin": true,
           "gridcolor": "#283442",
           "linecolor": "#506784",
           "ticks": "",
           "title": {
            "standoff": 15
           },
           "zerolinecolor": "#283442",
           "zerolinewidth": 2
          },
          "yaxis": {
           "automargin": true,
           "gridcolor": "#283442",
           "linecolor": "#506784",
           "ticks": "",
           "title": {
            "standoff": 15
           },
           "zerolinecolor": "#283442",
           "zerolinewidth": 2
          }
         }
        }
       }
      },
      "text/html": [
       "<div>                            <div id=\"e892ed2c-f600-4464-88f8-7911bc7f96df\" class=\"plotly-graph-div\" style=\"height:525px; width:100%;\"></div>            <script type=\"text/javascript\">                require([\"plotly\"], function(Plotly) {                    window.PLOTLYENV=window.PLOTLYENV || {};                                    if (document.getElementById(\"e892ed2c-f600-4464-88f8-7911bc7f96df\")) {                    Plotly.newPlot(                        \"e892ed2c-f600-4464-88f8-7911bc7f96df\",                        [{\"customdata\":[[20397401,0,352844,\"US\"],[10305788,9929568,149218,\"India\"],[7703971,6855372,195541,\"Brazil\"],[3153960,2553467,56798,\"Russia\"],[2697014,200822,64891,\"France\"],[2549671,5682,95917,\"United Kingdom\"],[2220855,2114760,21093,\"Turkey\"],[2129376,1479988,74621,\"Italy\"],[1928265,150376,50837,\"Spain\"],[1721839,1388744,33071,\"Germany\"],[1654880,1520548,43495,\"Colombia\"],[1629594,1426676,43319,\"Argentina\"],[1437185,1083768,126507,\"Mexico\"],[1305774,1046281,28956,\"Poland\"],[1231429,995570,55337,\"Iran\"],[1096855,746680,19437,\"Ukraine\"],[1073887,887701,28887,\"South Africa\"],[1015137,951318,93231,\"Peru\"],[816616,9651,11624,\"Netherlands\"],[751270,617936,22329,\"Indonesia\"],[732022,600073,11711,\"Czechia\"],[648289,0,19581,\"Belgium\"],[636201,566365,15841,\"Romania\"],[612564,579203,16660,\"Chile\"],[596582,494437,15819,\"Canada\"],[596193,539817,12824,\"Iraq\"],[514500,458656,7576,\"Bangladesh\"],[484362,438974,10258,\"Pakistan\"],[475820,439895,9248,\"Philippines\"],[452296,317600,7948,\"Switzerland\"],[440970,409638,7425,\"Morocco\"],[437379,0,8727,\"Sweden\"],[428510,379910,3356,\"Israel\"],[420629,338668,6972,\"Portugal\"],[362878,354081,6230,\"Saudi Arabia\"],[358774,334901,7564,\"Austria\"],[339997,0,3250,\"Serbia\"],[325278,157063,9667,\"Hungary\"],[295765,271834,3851,\"Jordan\"],[285079,127190,2250,\"Slovakia\"],[261019,253107,1864,\"Nepal\"],[249733,197928,4064,\"Panama\"],[239005,193558,3541,\"Japan\"],[228410,214992,2528,\"Georgia\"],[219041,188280,2670,\"Azerbaijan\"],[213378,184507,14051,\"Ecuador\"],[212007,199820,3961,\"Croatia\"],[209678,186019,671,\"United Arab Emirates\"],[202540,120343,7604,\"Bulgaria\"],[202060,176774,2749,\"Kazakhstan\"],[196223,178102,1433,\"Belarus\"],[183888,127959,1479,\"Lebanon\"],[172218,131543,2416,\"Dominican Republic\"],[169321,131923,2185,\"Costa Rica\"],[166567,131390,1322,\"Denmark\"],[160985,132510,9175,\"Bolivia\"],[159738,143355,2828,\"Armenia\"],[150869,146777,936,\"Kuwait\"],[147862,98149,1841,\"Lithuania\"],[145258,131701,3004,\"Moldova\"],[144042,141556,245,\"Qatar\"],[140557,105499,4730,\"Tunisia\"],[139471,112826,7687,\"Egypt\"],[139447,93764,4881,\"Greece\"],[139223,118926,1418,\"West Bank and Gaza\"],[138236,126606,4820,\"Guatemala\"],[128867,121890,1499,\"Oman\"],[125042,107777,2697,\"Burma\"],[124652,112251,1937,\"Ethiopia\"],[123950,100868,2728,\"Slovenia\"],[122974,56936,3160,\"Honduras\"],[115078,91170,474,\"Malaysia\"],[113884,107901,1030,\"Venezuela\"],[112143,77682,4086,\"Bosnia and Herzegovina\"],[108349,81977,2262,\"Paraguay\"],[102649,90031,4783,\"China\"],[100744,73252,1487,\"Libya\"],[99897,67395,2762,\"Algeria\"],[96614,78802,1681,\"Kenya\"],[93532,23364,2248,\"Ireland\"],[92913,90369,352,\"Bahrain\"],[88587,74373,1294,\"Nigeria\"],[83743,61943,2510,\"North Macedonia\"],[81156,76148,1356,\"Kyrgyzstan\"],[77182,75244,614,\"Uzbekistan\"],[62593,43578,942,\"Korea, South\"],[58629,58449,29,\"Singapore\"],[58316,33634,1181,\"Albania\"],[54930,53758,335,\"Ghana\"],[52513,41727,2201,\"Afghanistan\"],[51502,41854,1336,\"Kosovo\"],[49803,17998,436,\"Norway\"],[48589,38780,684,\"Montenegro\"],[46515,45960,1327,\"El Salvador\"],[46415,40978,495,\"Luxembourg\"],[43856,36155,208,\"Sri Lanka\"],[41615,29018,644,\"Latvia\"],[36676,29000,598,\"Finland\"],[35511,11878,265,\"Uganda\"],[28460,22573,909,\"Australia\"],[28406,19027,234,\"Estonia\"],[26848,24892,448,\"Cameroon\"],[25730,13524,1468,\"Sudan\"],[24545,20727,208,\"Namibia\"],[23108,2057,126,\"Cyprus\"],[22563,21981,138,\"Cote d'Ivoire\"],[20997,18773,390,\"Zambia\"],[19753,13990,193,\"Uruguay\"],[19364,17375,410,\"Senegal\"],[18794,16680,167,\"Mozambique\"],[17849,14701,591,\"Congo (Kinshasa)\"],[17714,17228,261,\"Madagascar\"],[17568,11146,405,\"Angola\"],[14805,12136,42,\"Botswana\"],[14581,11652,349,\"Mauritania\"],[14084,11347,369,\"Zimbabwe\"],[13804,13150,48,\"Maldives\"],[13738,13153,81,\"Guinea\"],[13665,12894,90,\"Tajikistan\"],[12915,10532,303,\"Jamaica\"],[12909,11178,219,\"Malta\"],[12056,10345,146,\"Cuba\"],[11872,11569,113,\"Cabo Verde\"],[11526,5420,717,\"Syria\"],[10776,9795,248,\"Belize\"],[10015,8624,236,\"Haiti\"],[9571,9388,64,\"Gabon\"],[9482,7073,216,\"Eswatini\"],[8460,6598,94,\"Rwanda\"],[8117,7463,84,\"Andorra\"],[7887,6239,171,\"Bahamas\"],[7203,4694,271,\"Mali\"],[7163,4299,63,\"Thailand\"],[7158,6671,127,\"Trinidad and Tobago\"],[7107,5846,108,\"Congo (Brazzaville)\"],[6828,5152,85,\"Burkina Faso\"],[6684,5708,191,\"Malawi\"],[6348,5868,164,\"Guyana\"],[6277,5771,123,\"Suriname\"],[5840,5735,61,\"Djibouti\"],[5754,5578,29,\"Iceland\"],[5277,5136,86,\"Equatorial Guinea\"],[4963,1924,63,\"Central African Republic\"],[4829,4225,165,\"Nicaragua\"],[4714,3612,130,\"Somalia\"],[3800,3669,124,\"Gambia\"],[3662,3443,68,\"Togo\"],[3558,3131,63,\"South Sudan\"],[3403,1828,106,\"Niger\"],[3251,3061,44,\"Benin\"],[3206,1496,51,\"Lesotho\"],[2635,1906,76,\"Sierra Leone\"],[2452,2397,45,\"Guinea-Bissau\"],[2384,2042,59,\"San Marino\"],[2245,1810,44,\"Liechtenstein\"],[2162,2082,26,\"New Zealand\"],[2141,1704,104,\"Chad\"],[2101,1396,610,\"Yemen\"],[1800,1406,83,\"Liberia\"],[1474,1325,35,\"Vietnam\"],[1320,643,3,\"Eritrea\"],[1220,855,1,\"Mongolia\"],[1022,973,17,\"Sao Tome and Principe\"],[885,718,3,\"Monaco\"],[823,705,10,\"Comoros\"],[822,687,2,\"Burundi\"],[802,682,7,\"Taiwan*\"],[780,661,9,\"Papua New Guinea\"],[712,699,13,\"Diamond Princess\"],[689,449,0,\"Bhutan\"],[527,496,10,\"Mauritius\"],[509,183,21,\"Tanzania\"],[395,319,7,\"Barbados\"],[379,362,0,\"Cambodia\"],[353,289,5,\"Saint Lucia\"],[267,214,0,\"Seychelles\"],[159,148,5,\"Antigua and Barbuda\"],[157,149,3,\"Brunei\"],[127,107,0,\"Grenada\"],[121,98,0,\"Saint Vincent and the Grenadines\"],[88,83,0,\"Dominica\"],[49,44,2,\"Fiji\"],[44,32,0,\"Timor-Leste\"],[41,40,0,\"Laos\"],[32,29,0,\"Saint Kitts and Nevis\"],[27,15,0,\"Holy See\"],[17,5,0,\"Solomon Islands\"],[9,7,2,\"MS Zaandam\"],[4,4,0,\"Marshall Islands\"],[2,2,0,\"Samoa\"],[1,1,0,\"Vanuatu\"],[0,0,0,\"Palau\"],[0,0,0,\"Tuvalu\"],[0,0,0,\"Tonga\"],[0,0,0,\"Antarctica\"],[0,0,0,\"Korea, North\"],[0,0,0,\"Nauru\"],[0,0,0,\"Winter Olympics 2022\"],[0,0,0,\"Summer Olympics 2020\"],[0,0,0,\"Kiribati\"]],\"geo\":\"geo\",\"hovertemplate\":\"<b>%{hovertext}</b><br><br>Confirmed=%{marker.color:,}<br>Recovered=%{customdata[1]:,}<br>Deaths=%{customdata[2]:,}<extra></extra>\",\"hovertext\":[\"US\",\"India\",\"Brazil\",\"Russia\",\"France\",\"United Kingdom\",\"Turkey\",\"Italy\",\"Spain\",\"Germany\",\"Colombia\",\"Argentina\",\"Mexico\",\"Poland\",\"Iran\",\"Ukraine\",\"South Africa\",\"Peru\",\"Netherlands\",\"Indonesia\",\"Czechia\",\"Belgium\",\"Romania\",\"Chile\",\"Canada\",\"Iraq\",\"Bangladesh\",\"Pakistan\",\"Philippines\",\"Switzerland\",\"Morocco\",\"Sweden\",\"Israel\",\"Portugal\",\"Saudi Arabia\",\"Austria\",\"Serbia\",\"Hungary\",\"Jordan\",\"Slovakia\",\"Nepal\",\"Panama\",\"Japan\",\"Georgia\",\"Azerbaijan\",\"Ecuador\",\"Croatia\",\"United Arab Emirates\",\"Bulgaria\",\"Kazakhstan\",\"Belarus\",\"Lebanon\",\"Dominican Republic\",\"Costa Rica\",\"Denmark\",\"Bolivia\",\"Armenia\",\"Kuwait\",\"Lithuania\",\"Moldova\",\"Qatar\",\"Tunisia\",\"Egypt\",\"Greece\",\"West Bank and Gaza\",\"Guatemala\",\"Oman\",\"Burma\",\"Ethiopia\",\"Slovenia\",\"Honduras\",\"Malaysia\",\"Venezuela\",\"Bosnia and Herzegovina\",\"Paraguay\",\"China\",\"Libya\",\"Algeria\",\"Kenya\",\"Ireland\",\"Bahrain\",\"Nigeria\",\"North Macedonia\",\"Kyrgyzstan\",\"Uzbekistan\",\"Korea, South\",\"Singapore\",\"Albania\",\"Ghana\",\"Afghanistan\",\"Kosovo\",\"Norway\",\"Montenegro\",\"El Salvador\",\"Luxembourg\",\"Sri Lanka\",\"Latvia\",\"Finland\",\"Uganda\",\"Australia\",\"Estonia\",\"Cameroon\",\"Sudan\",\"Namibia\",\"Cyprus\",\"Cote d'Ivoire\",\"Zambia\",\"Uruguay\",\"Senegal\",\"Mozambique\",\"Congo (Kinshasa)\",\"Madagascar\",\"Angola\",\"Botswana\",\"Mauritania\",\"Zimbabwe\",\"Maldives\",\"Guinea\",\"Tajikistan\",\"Jamaica\",\"Malta\",\"Cuba\",\"Cabo Verde\",\"Syria\",\"Belize\",\"Haiti\",\"Gabon\",\"Eswatini\",\"Rwanda\",\"Andorra\",\"Bahamas\",\"Mali\",\"Thailand\",\"Trinidad and Tobago\",\"Congo (Brazzaville)\",\"Burkina Faso\",\"Malawi\",\"Guyana\",\"Suriname\",\"Djibouti\",\"Iceland\",\"Equatorial Guinea\",\"Central African Republic\",\"Nicaragua\",\"Somalia\",\"Gambia\",\"Togo\",\"South Sudan\",\"Niger\",\"Benin\",\"Lesotho\",\"Sierra Leone\",\"Guinea-Bissau\",\"San Marino\",\"Liechtenstein\",\"New Zealand\",\"Chad\",\"Yemen\",\"Liberia\",\"Vietnam\",\"Eritrea\",\"Mongolia\",\"Sao Tome and Principe\",\"Monaco\",\"Comoros\",\"Burundi\",\"Taiwan*\",\"Papua New Guinea\",\"Diamond Princess\",\"Bhutan\",\"Mauritius\",\"Tanzania\",\"Barbados\",\"Cambodia\",\"Saint Lucia\",\"Seychelles\",\"Antigua and Barbuda\",\"Brunei\",\"Grenada\",\"Saint Vincent and the Grenadines\",\"Dominica\",\"Fiji\",\"Timor-Leste\",\"Laos\",\"Saint Kitts and Nevis\",\"Holy See\",\"Solomon Islands\",\"MS Zaandam\",\"Marshall Islands\",\"Samoa\",\"Vanuatu\",\"Palau\",\"Tuvalu\",\"Tonga\",\"Antarctica\",\"Korea, North\",\"Nauru\",\"Winter Olympics 2022\",\"Summer Olympics 2020\",\"Kiribati\"],\"legendgroup\":\"\",\"locationmode\":\"country names\",\"locations\":[\"US\",\"India\",\"Brazil\",\"Russia\",\"France\",\"United Kingdom\",\"Turkey\",\"Italy\",\"Spain\",\"Germany\",\"Colombia\",\"Argentina\",\"Mexico\",\"Poland\",\"Iran\",\"Ukraine\",\"South Africa\",\"Peru\",\"Netherlands\",\"Indonesia\",\"Czechia\",\"Belgium\",\"Romania\",\"Chile\",\"Canada\",\"Iraq\",\"Bangladesh\",\"Pakistan\",\"Philippines\",\"Switzerland\",\"Morocco\",\"Sweden\",\"Israel\",\"Portugal\",\"Saudi Arabia\",\"Austria\",\"Serbia\",\"Hungary\",\"Jordan\",\"Slovakia\",\"Nepal\",\"Panama\",\"Japan\",\"Georgia\",\"Azerbaijan\",\"Ecuador\",\"Croatia\",\"United Arab Emirates\",\"Bulgaria\",\"Kazakhstan\",\"Belarus\",\"Lebanon\",\"Dominican Republic\",\"Costa Rica\",\"Denmark\",\"Bolivia\",\"Armenia\",\"Kuwait\",\"Lithuania\",\"Moldova\",\"Qatar\",\"Tunisia\",\"Egypt\",\"Greece\",\"West Bank and Gaza\",\"Guatemala\",\"Oman\",\"Burma\",\"Ethiopia\",\"Slovenia\",\"Honduras\",\"Malaysia\",\"Venezuela\",\"Bosnia and Herzegovina\",\"Paraguay\",\"China\",\"Libya\",\"Algeria\",\"Kenya\",\"Ireland\",\"Bahrain\",\"Nigeria\",\"North Macedonia\",\"Kyrgyzstan\",\"Uzbekistan\",\"Korea, South\",\"Singapore\",\"Albania\",\"Ghana\",\"Afghanistan\",\"Kosovo\",\"Norway\",\"Montenegro\",\"El Salvador\",\"Luxembourg\",\"Sri Lanka\",\"Latvia\",\"Finland\",\"Uganda\",\"Australia\",\"Estonia\",\"Cameroon\",\"Sudan\",\"Namibia\",\"Cyprus\",\"Cote d'Ivoire\",\"Zambia\",\"Uruguay\",\"Senegal\",\"Mozambique\",\"Congo (Kinshasa)\",\"Madagascar\",\"Angola\",\"Botswana\",\"Mauritania\",\"Zimbabwe\",\"Maldives\",\"Guinea\",\"Tajikistan\",\"Jamaica\",\"Malta\",\"Cuba\",\"Cabo Verde\",\"Syria\",\"Belize\",\"Haiti\",\"Gabon\",\"Eswatini\",\"Rwanda\",\"Andorra\",\"Bahamas\",\"Mali\",\"Thailand\",\"Trinidad and Tobago\",\"Congo (Brazzaville)\",\"Burkina Faso\",\"Malawi\",\"Guyana\",\"Suriname\",\"Djibouti\",\"Iceland\",\"Equatorial Guinea\",\"Central African Republic\",\"Nicaragua\",\"Somalia\",\"Gambia\",\"Togo\",\"South Sudan\",\"Niger\",\"Benin\",\"Lesotho\",\"Sierra Leone\",\"Guinea-Bissau\",\"San Marino\",\"Liechtenstein\",\"New Zealand\",\"Chad\",\"Yemen\",\"Liberia\",\"Vietnam\",\"Eritrea\",\"Mongolia\",\"Sao Tome and Principe\",\"Monaco\",\"Comoros\",\"Burundi\",\"Taiwan*\",\"Papua New Guinea\",\"Diamond Princess\",\"Bhutan\",\"Mauritius\",\"Tanzania\",\"Barbados\",\"Cambodia\",\"Saint Lucia\",\"Seychelles\",\"Antigua and Barbuda\",\"Brunei\",\"Grenada\",\"Saint Vincent and the Grenadines\",\"Dominica\",\"Fiji\",\"Timor-Leste\",\"Laos\",\"Saint Kitts and Nevis\",\"Holy See\",\"Solomon Islands\",\"MS Zaandam\",\"Marshall Islands\",\"Samoa\",\"Vanuatu\",\"Palau\",\"Tuvalu\",\"Tonga\",\"Antarctica\",\"Korea, North\",\"Nauru\",\"Winter Olympics 2022\",\"Summer Olympics 2020\",\"Kiribati\"],\"marker\":{\"color\":[20397401,10305788,7703971,3153960,2697014,2549671,2220855,2129376,1928265,1721839,1654880,1629594,1437185,1305774,1231429,1096855,1073887,1015137,816616,751270,732022,648289,636201,612564,596582,596193,514500,484362,475820,452296,440970,437379,428510,420629,362878,358774,339997,325278,295765,285079,261019,249733,239005,228410,219041,213378,212007,209678,202540,202060,196223,183888,172218,169321,166567,160985,159738,150869,147862,145258,144042,140557,139471,139447,139223,138236,128867,125042,124652,123950,122974,115078,113884,112143,108349,102649,100744,99897,96614,93532,92913,88587,83743,81156,77182,62593,58629,58316,54930,52513,51502,49803,48589,46515,46415,43856,41615,36676,35511,28460,28406,26848,25730,24545,23108,22563,20997,19753,19364,18794,17849,17714,17568,14805,14581,14084,13804,13738,13665,12915,12909,12056,11872,11526,10776,10015,9571,9482,8460,8117,7887,7203,7163,7158,7107,6828,6684,6348,6277,5840,5754,5277,4963,4829,4714,3800,3662,3558,3403,3251,3206,2635,2452,2384,2245,2162,2141,2101,1800,1474,1320,1220,1022,885,823,822,802,780,712,689,527,509,395,379,353,267,159,157,127,121,88,49,44,41,32,27,17,9,4,2,1,0,0,0,0,0,0,0,0,0],\"coloraxis\":\"coloraxis\",\"size\":[20397401,10305788,7703971,3153960,2697014,2549671,2220855,2129376,1928265,1721839,1654880,1629594,1437185,1305774,1231429,1096855,1073887,1015137,816616,751270,732022,648289,636201,612564,596582,596193,514500,484362,475820,452296,440970,437379,428510,420629,362878,358774,339997,325278,295765,285079,261019,249733,239005,228410,219041,213378,212007,209678,202540,202060,196223,183888,172218,169321,166567,160985,159738,150869,147862,145258,144042,140557,139471,139447,139223,138236,128867,125042,124652,123950,122974,115078,113884,112143,108349,102649,100744,99897,96614,93532,92913,88587,83743,81156,77182,62593,58629,58316,54930,52513,51502,49803,48589,46515,46415,43856,41615,36676,35511,28460,28406,26848,25730,24545,23108,22563,20997,19753,19364,18794,17849,17714,17568,14805,14581,14084,13804,13738,13665,12915,12909,12056,11872,11526,10776,10015,9571,9482,8460,8117,7887,7203,7163,7158,7107,6828,6684,6348,6277,5840,5754,5277,4963,4829,4714,3800,3662,3558,3403,3251,3206,2635,2452,2384,2245,2162,2141,2101,1800,1474,1320,1220,1022,885,823,822,802,780,712,689,527,509,395,379,353,267,159,157,127,121,88,49,44,41,32,27,17,9,4,2,1,0,0,0,0,0,0,0,0,0],\"sizemode\":\"area\",\"sizeref\":12748.375625,\"symbol\":\"circle\"},\"mode\":\"markers\",\"name\":\"\",\"showlegend\":false,\"type\":\"scattergeo\"}],                        {\"template\":{\"data\":{\"barpolar\":[{\"marker\":{\"line\":{\"color\":\"rgb(17,17,17)\",\"width\":0.5},\"pattern\":{\"fillmode\":\"overlay\",\"size\":10,\"solidity\":0.2}},\"type\":\"barpolar\"}],\"bar\":[{\"error_x\":{\"color\":\"#f2f5fa\"},\"error_y\":{\"color\":\"#f2f5fa\"},\"marker\":{\"line\":{\"color\":\"rgb(17,17,17)\",\"width\":0.5},\"pattern\":{\"fillmode\":\"overlay\",\"size\":10,\"solidity\":0.2}},\"type\":\"bar\"}],\"carpet\":[{\"aaxis\":{\"endlinecolor\":\"#A2B1C6\",\"gridcolor\":\"#506784\",\"linecolor\":\"#506784\",\"minorgridcolor\":\"#506784\",\"startlinecolor\":\"#A2B1C6\"},\"baxis\":{\"endlinecolor\":\"#A2B1C6\",\"gridcolor\":\"#506784\",\"linecolor\":\"#506784\",\"minorgridcolor\":\"#506784\",\"startlinecolor\":\"#A2B1C6\"},\"type\":\"carpet\"}],\"choropleth\":[{\"colorbar\":{\"outlinewidth\":0,\"ticks\":\"\"},\"type\":\"choropleth\"}],\"contourcarpet\":[{\"colorbar\":{\"outlinewidth\":0,\"ticks\":\"\"},\"type\":\"contourcarpet\"}],\"contour\":[{\"colorbar\":{\"outlinewidth\":0,\"ticks\":\"\"},\"colorscale\":[[0.0,\"#0d0887\"],[0.1111111111111111,\"#46039f\"],[0.2222222222222222,\"#7201a8\"],[0.3333333333333333,\"#9c179e\"],[0.4444444444444444,\"#bd3786\"],[0.5555555555555556,\"#d8576b\"],[0.6666666666666666,\"#ed7953\"],[0.7777777777777778,\"#fb9f3a\"],[0.8888888888888888,\"#fdca26\"],[1.0,\"#f0f921\"]],\"type\":\"contour\"}],\"heatmapgl\":[{\"colorbar\":{\"outlinewidth\":0,\"ticks\":\"\"},\"colorscale\":[[0.0,\"#0d0887\"],[0.1111111111111111,\"#46039f\"],[0.2222222222222222,\"#7201a8\"],[0.3333333333333333,\"#9c179e\"],[0.4444444444444444,\"#bd3786\"],[0.5555555555555556,\"#d8576b\"],[0.6666666666666666,\"#ed7953\"],[0.7777777777777778,\"#fb9f3a\"],[0.8888888888888888,\"#fdca26\"],[1.0,\"#f0f921\"]],\"type\":\"heatmapgl\"}],\"heatmap\":[{\"colorbar\":{\"outlinewidth\":0,\"ticks\":\"\"},\"colorscale\":[[0.0,\"#0d0887\"],[0.1111111111111111,\"#46039f\"],[0.2222222222222222,\"#7201a8\"],[0.3333333333333333,\"#9c179e\"],[0.4444444444444444,\"#bd3786\"],[0.5555555555555556,\"#d8576b\"],[0.6666666666666666,\"#ed7953\"],[0.7777777777777778,\"#fb9f3a\"],[0.8888888888888888,\"#fdca26\"],[1.0,\"#f0f921\"]],\"type\":\"heatmap\"}],\"histogram2dcontour\":[{\"colorbar\":{\"outlinewidth\":0,\"ticks\":\"\"},\"colorscale\":[[0.0,\"#0d0887\"],[0.1111111111111111,\"#46039f\"],[0.2222222222222222,\"#7201a8\"],[0.3333333333333333,\"#9c179e\"],[0.4444444444444444,\"#bd3786\"],[0.5555555555555556,\"#d8576b\"],[0.6666666666666666,\"#ed7953\"],[0.7777777777777778,\"#fb9f3a\"],[0.8888888888888888,\"#fdca26\"],[1.0,\"#f0f921\"]],\"type\":\"histogram2dcontour\"}],\"histogram2d\":[{\"colorbar\":{\"outlinewidth\":0,\"ticks\":\"\"},\"colorscale\":[[0.0,\"#0d0887\"],[0.1111111111111111,\"#46039f\"],[0.2222222222222222,\"#7201a8\"],[0.3333333333333333,\"#9c179e\"],[0.4444444444444444,\"#bd3786\"],[0.5555555555555556,\"#d8576b\"],[0.6666666666666666,\"#ed7953\"],[0.7777777777777778,\"#fb9f3a\"],[0.8888888888888888,\"#fdca26\"],[1.0,\"#f0f921\"]],\"type\":\"histogram2d\"}],\"histogram\":[{\"marker\":{\"pattern\":{\"fillmode\":\"overlay\",\"size\":10,\"solidity\":0.2}},\"type\":\"histogram\"}],\"mesh3d\":[{\"colorbar\":{\"outlinewidth\":0,\"ticks\":\"\"},\"type\":\"mesh3d\"}],\"parcoords\":[{\"line\":{\"colorbar\":{\"outlinewidth\":0,\"ticks\":\"\"}},\"type\":\"parcoords\"}],\"pie\":[{\"automargin\":true,\"type\":\"pie\"}],\"scatter3d\":[{\"line\":{\"colorbar\":{\"outlinewidth\":0,\"ticks\":\"\"}},\"marker\":{\"colorbar\":{\"outlinewidth\":0,\"ticks\":\"\"}},\"type\":\"scatter3d\"}],\"scattercarpet\":[{\"marker\":{\"colorbar\":{\"outlinewidth\":0,\"ticks\":\"\"}},\"type\":\"scattercarpet\"}],\"scattergeo\":[{\"marker\":{\"colorbar\":{\"outlinewidth\":0,\"ticks\":\"\"}},\"type\":\"scattergeo\"}],\"scattergl\":[{\"marker\":{\"line\":{\"color\":\"#283442\"}},\"type\":\"scattergl\"}],\"scattermapbox\":[{\"marker\":{\"colorbar\":{\"outlinewidth\":0,\"ticks\":\"\"}},\"type\":\"scattermapbox\"}],\"scatterpolargl\":[{\"marker\":{\"colorbar\":{\"outlinewidth\":0,\"ticks\":\"\"}},\"type\":\"scatterpolargl\"}],\"scatterpolar\":[{\"marker\":{\"colorbar\":{\"outlinewidth\":0,\"ticks\":\"\"}},\"type\":\"scatterpolar\"}],\"scatter\":[{\"marker\":{\"line\":{\"color\":\"#283442\"}},\"type\":\"scatter\"}],\"scatterternary\":[{\"marker\":{\"colorbar\":{\"outlinewidth\":0,\"ticks\":\"\"}},\"type\":\"scatterternary\"}],\"surface\":[{\"colorbar\":{\"outlinewidth\":0,\"ticks\":\"\"},\"colorscale\":[[0.0,\"#0d0887\"],[0.1111111111111111,\"#46039f\"],[0.2222222222222222,\"#7201a8\"],[0.3333333333333333,\"#9c179e\"],[0.4444444444444444,\"#bd3786\"],[0.5555555555555556,\"#d8576b\"],[0.6666666666666666,\"#ed7953\"],[0.7777777777777778,\"#fb9f3a\"],[0.8888888888888888,\"#fdca26\"],[1.0,\"#f0f921\"]],\"type\":\"surface\"}],\"table\":[{\"cells\":{\"fill\":{\"color\":\"#506784\"},\"line\":{\"color\":\"rgb(17,17,17)\"}},\"header\":{\"fill\":{\"color\":\"#2a3f5f\"},\"line\":{\"color\":\"rgb(17,17,17)\"}},\"type\":\"table\"}]},\"layout\":{\"annotationdefaults\":{\"arrowcolor\":\"#f2f5fa\",\"arrowhead\":0,\"arrowwidth\":1},\"autotypenumbers\":\"strict\",\"coloraxis\":{\"colorbar\":{\"outlinewidth\":0,\"ticks\":\"\"}},\"colorscale\":{\"diverging\":[[0,\"#8e0152\"],[0.1,\"#c51b7d\"],[0.2,\"#de77ae\"],[0.3,\"#f1b6da\"],[0.4,\"#fde0ef\"],[0.5,\"#f7f7f7\"],[0.6,\"#e6f5d0\"],[0.7,\"#b8e186\"],[0.8,\"#7fbc41\"],[0.9,\"#4d9221\"],[1,\"#276419\"]],\"sequential\":[[0.0,\"#0d0887\"],[0.1111111111111111,\"#46039f\"],[0.2222222222222222,\"#7201a8\"],[0.3333333333333333,\"#9c179e\"],[0.4444444444444444,\"#bd3786\"],[0.5555555555555556,\"#d8576b\"],[0.6666666666666666,\"#ed7953\"],[0.7777777777777778,\"#fb9f3a\"],[0.8888888888888888,\"#fdca26\"],[1.0,\"#f0f921\"]],\"sequentialminus\":[[0.0,\"#0d0887\"],[0.1111111111111111,\"#46039f\"],[0.2222222222222222,\"#7201a8\"],[0.3333333333333333,\"#9c179e\"],[0.4444444444444444,\"#bd3786\"],[0.5555555555555556,\"#d8576b\"],[0.6666666666666666,\"#ed7953\"],[0.7777777777777778,\"#fb9f3a\"],[0.8888888888888888,\"#fdca26\"],[1.0,\"#f0f921\"]]},\"colorway\":[\"#636efa\",\"#EF553B\",\"#00cc96\",\"#ab63fa\",\"#FFA15A\",\"#19d3f3\",\"#FF6692\",\"#B6E880\",\"#FF97FF\",\"#FECB52\"],\"font\":{\"color\":\"#f2f5fa\"},\"geo\":{\"bgcolor\":\"rgb(17,17,17)\",\"lakecolor\":\"rgb(17,17,17)\",\"landcolor\":\"rgb(17,17,17)\",\"showlakes\":true,\"showland\":true,\"subunitcolor\":\"#506784\"},\"hoverlabel\":{\"align\":\"left\"},\"hovermode\":\"closest\",\"mapbox\":{\"style\":\"dark\"},\"paper_bgcolor\":\"rgb(17,17,17)\",\"plot_bgcolor\":\"rgb(17,17,17)\",\"polar\":{\"angularaxis\":{\"gridcolor\":\"#506784\",\"linecolor\":\"#506784\",\"ticks\":\"\"},\"bgcolor\":\"rgb(17,17,17)\",\"radialaxis\":{\"gridcolor\":\"#506784\",\"linecolor\":\"#506784\",\"ticks\":\"\"}},\"scene\":{\"xaxis\":{\"backgroundcolor\":\"rgb(17,17,17)\",\"gridcolor\":\"#506784\",\"gridwidth\":2,\"linecolor\":\"#506784\",\"showbackground\":true,\"ticks\":\"\",\"zerolinecolor\":\"#C8D4E3\"},\"yaxis\":{\"backgroundcolor\":\"rgb(17,17,17)\",\"gridcolor\":\"#506784\",\"gridwidth\":2,\"linecolor\":\"#506784\",\"showbackground\":true,\"ticks\":\"\",\"zerolinecolor\":\"#C8D4E3\"},\"zaxis\":{\"backgroundcolor\":\"rgb(17,17,17)\",\"gridcolor\":\"#506784\",\"gridwidth\":2,\"linecolor\":\"#506784\",\"showbackground\":true,\"ticks\":\"\",\"zerolinecolor\":\"#C8D4E3\"}},\"shapedefaults\":{\"line\":{\"color\":\"#f2f5fa\"}},\"sliderdefaults\":{\"bgcolor\":\"#C8D4E3\",\"bordercolor\":\"rgb(17,17,17)\",\"borderwidth\":1,\"tickwidth\":0},\"ternary\":{\"aaxis\":{\"gridcolor\":\"#506784\",\"linecolor\":\"#506784\",\"ticks\":\"\"},\"baxis\":{\"gridcolor\":\"#506784\",\"linecolor\":\"#506784\",\"ticks\":\"\"},\"bgcolor\":\"rgb(17,17,17)\",\"caxis\":{\"gridcolor\":\"#506784\",\"linecolor\":\"#506784\",\"ticks\":\"\"}},\"title\":{\"x\":0.05},\"updatemenudefaults\":{\"bgcolor\":\"#506784\",\"borderwidth\":0},\"xaxis\":{\"automargin\":true,\"gridcolor\":\"#283442\",\"linecolor\":\"#506784\",\"ticks\":\"\",\"title\":{\"standoff\":15},\"zerolinecolor\":\"#283442\",\"zerolinewidth\":2},\"yaxis\":{\"automargin\":true,\"gridcolor\":\"#283442\",\"linecolor\":\"#506784\",\"ticks\":\"\",\"title\":{\"standoff\":15},\"zerolinecolor\":\"#283442\",\"zerolinewidth\":2}}},\"geo\":{\"domain\":{\"x\":[0.0,1.0],\"y\":[0.0,1.0]},\"center\":{}},\"coloraxis\":{\"colorbar\":{\"title\":{\"text\":\"Confirmed\"}},\"colorscale\":[[0.0,\"#0d0887\"],[0.1111111111111111,\"#46039f\"],[0.2222222222222222,\"#7201a8\"],[0.3333333333333333,\"#9c179e\"],[0.4444444444444444,\"#bd3786\"],[0.5555555555555556,\"#d8576b\"],[0.6666666666666666,\"#ed7953\"],[0.7777777777777778,\"#fb9f3a\"],[0.8888888888888888,\"#fdca26\"],[1.0,\"#f0f921\"]]},\"legend\":{\"tracegroupgap\":0,\"itemsizing\":\"constant\"},\"margin\":{\"t\":60}},                        {\"responsive\": true}                    ).then(function(){\n",
       "                            \n",
       "var gd = document.getElementById('e892ed2c-f600-4464-88f8-7911bc7f96df');\n",
       "var x = new MutationObserver(function (mutations, observer) {{\n",
       "        var display = window.getComputedStyle(gd).display;\n",
       "        if (!display || display === 'none') {{\n",
       "            console.log([gd, 'removed!']);\n",
       "            Plotly.purge(gd);\n",
       "            observer.disconnect();\n",
       "        }}\n",
       "}});\n",
       "\n",
       "// Listen for the removal of the full notebook cells\n",
       "var notebookContainer = gd.closest('#notebook-container');\n",
       "if (notebookContainer) {{\n",
       "    x.observe(notebookContainer, {childList: true});\n",
       "}}\n",
       "\n",
       "// Listen for the clearing of the current output cell\n",
       "var outputEl = gd.closest('.output');\n",
       "if (outputEl) {{\n",
       "    x.observe(outputEl, {childList: true});\n",
       "}}\n",
       "\n",
       "                        })                };                });            </script>        </div>"
      ]
     },
     "metadata": {},
     "output_type": "display_data"
    }
   ],
   "source": [
    "import plotly.express as px\n",
    "from data import countries_df\n",
    "\n",
    "print(countries_df.head())\n",
    "\n",
    "options = ['equirectangular', 'mercator', 'orthographic', 'natural earth', 'kavrayskiy7', 'miller', 'robinson', 'eckert4', 'azimuthal equal area', 'azimuthal equidistant', 'conic equal area', 'conic conformal', 'conic equidistant', 'gnomonic', 'stereographic', 'mollweide', 'hammer', 'transverse mercator', 'albers usa', 'winkel tripel', 'aitoff','sinusoidal']\n",
    "\n",
    "fig = px.scatter_geo(countries_df,\n",
    "                     size=\"Confirmed\",\n",
    "                     size_max=40,\n",
    "                     template=\"plotly_dark\",\n",
    "                     hover_name=\"Country_Region\", \n",
    "                     hover_data={\"Confirmed\":\":,\", \"Recovered\":\":,\", \"Deaths\":\":,\", \"Country_Region\":False}, \n",
    "                     color=\"Confirmed\", \n",
    "                     locations=\"Country_Region\", \n",
    "                     locationmode=\"country names\")\n",
    "fig.show()"
   ]
  }
 ],
 "metadata": {
  "kernelspec": {
   "display_name": "Python 3 (ipykernel)",
   "language": "python",
   "name": "python3"
  },
  "language_info": {
   "codemirror_mode": {
    "name": "ipython",
    "version": 3
   },
   "file_extension": ".py",
   "mimetype": "text/x-python",
   "name": "python",
   "nbconvert_exporter": "python",
   "pygments_lexer": "ipython3",
   "version": "3.10.2"
  }
 },
 "nbformat": 4,
 "nbformat_minor": 5
}
